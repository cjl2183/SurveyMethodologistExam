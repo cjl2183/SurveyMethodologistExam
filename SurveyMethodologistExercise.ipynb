{
 "cells": [
  {
   "cell_type": "code",
   "execution_count": 637,
   "metadata": {
    "collapsed": true
   },
   "outputs": [],
   "source": [
    "%matplotlib inline\n",
    "import matplotlib.pyplot as plt\n",
    "import seaborn as sns\n",
    "import pandas as pd\n",
    "import numpy as np\n",
    "from itertools import chain"
   ]
  },
  {
   "cell_type": "markdown",
   "metadata": {},
   "source": [
    "# Question 1\n",
    "You are starting your new role as Analyst for Zoey Bartlet’s 2016 campaign for US Senate in the state of New Hampshire in late 2015, one year before the election.  You should have received an attached questionnaire for a voter telephone survey commissioned by the Bartlet campaign.  There are approximately 5,000 responses, the data for which is provided to you in the attached Excel spreadsheet.  Zoey and her campaign manager have asked you to look over the questionnaire and the data and answer the following questions:\n",
    "\n",
    "Part A\n",
    "One staffer has looked over the survey responses and reported that Bartlet is ahead by 5 points in the race.  Is the staffer correct?  Why or why not?"
   ]
  },
  {
   "cell_type": "code",
   "execution_count": 633,
   "metadata": {
    "collapsed": false
   },
   "outputs": [],
   "source": [
    "q1=pd.read_csv('Q1 survey response data.csv')"
   ]
  },
  {
   "cell_type": "code",
   "execution_count": 634,
   "metadata": {
    "collapsed": false
   },
   "outputs": [
    {
     "data": {
      "text/html": [
       "<div>\n",
       "<table border=\"1\" class=\"dataframe\">\n",
       "  <thead>\n",
       "    <tr style=\"text-align: right;\">\n",
       "      <th></th>\n",
       "      <th>Individual ID</th>\n",
       "      <th>Age</th>\n",
       "      <th>Gender</th>\n",
       "      <th>Party Registration</th>\n",
       "      <th>Q1</th>\n",
       "      <th>Q2</th>\n",
       "      <th>Q3</th>\n",
       "      <th>Q4</th>\n",
       "      <th>Q5</th>\n",
       "      <th>Q6</th>\n",
       "      <th>Q7</th>\n",
       "    </tr>\n",
       "  </thead>\n",
       "  <tbody>\n",
       "    <tr>\n",
       "      <th>0</th>\n",
       "      <td>1</td>\n",
       "      <td>86</td>\n",
       "      <td>F</td>\n",
       "      <td>D</td>\n",
       "      <td>1</td>\n",
       "      <td>4</td>\n",
       "      <td>3</td>\n",
       "      <td>1</td>\n",
       "      <td>2</td>\n",
       "      <td>2</td>\n",
       "      <td>2</td>\n",
       "    </tr>\n",
       "    <tr>\n",
       "      <th>1</th>\n",
       "      <td>2</td>\n",
       "      <td>68</td>\n",
       "      <td>F</td>\n",
       "      <td>D</td>\n",
       "      <td>2</td>\n",
       "      <td>1</td>\n",
       "      <td>1</td>\n",
       "      <td>1</td>\n",
       "      <td>1</td>\n",
       "      <td>3</td>\n",
       "      <td>3</td>\n",
       "    </tr>\n",
       "    <tr>\n",
       "      <th>2</th>\n",
       "      <td>3</td>\n",
       "      <td>58</td>\n",
       "      <td>F</td>\n",
       "      <td>D</td>\n",
       "      <td>1</td>\n",
       "      <td>1</td>\n",
       "      <td>1</td>\n",
       "      <td>1</td>\n",
       "      <td>1</td>\n",
       "      <td>2</td>\n",
       "      <td>1</td>\n",
       "    </tr>\n",
       "    <tr>\n",
       "      <th>3</th>\n",
       "      <td>4</td>\n",
       "      <td>73</td>\n",
       "      <td>M</td>\n",
       "      <td>D</td>\n",
       "      <td>1</td>\n",
       "      <td>2</td>\n",
       "      <td>3</td>\n",
       "      <td>4</td>\n",
       "      <td>2</td>\n",
       "      <td>2</td>\n",
       "      <td>1</td>\n",
       "    </tr>\n",
       "    <tr>\n",
       "      <th>4</th>\n",
       "      <td>5</td>\n",
       "      <td>50</td>\n",
       "      <td>F</td>\n",
       "      <td>D</td>\n",
       "      <td>1</td>\n",
       "      <td>1</td>\n",
       "      <td>2</td>\n",
       "      <td>2</td>\n",
       "      <td>1</td>\n",
       "      <td>2</td>\n",
       "      <td>1</td>\n",
       "    </tr>\n",
       "  </tbody>\n",
       "</table>\n",
       "</div>"
      ],
      "text/plain": [
       "   Individual ID  Age Gender Party Registration  Q1  Q2  Q3  Q4  Q5  Q6  Q7\n",
       "0              1   86      F                  D   1   4   3   1   2   2   2\n",
       "1              2   68      F                  D   2   1   1   1   1   3   3\n",
       "2              3   58      F                  D   1   1   1   1   1   2   1\n",
       "3              4   73      M                  D   1   2   3   4   2   2   1\n",
       "4              5   50      F                  D   1   1   2   2   1   2   1"
      ]
     },
     "execution_count": 634,
     "metadata": {},
     "output_type": "execute_result"
    }
   ],
   "source": [
    "q1.head()"
   ]
  },
  {
   "cell_type": "code",
   "execution_count": 536,
   "metadata": {
    "collapsed": false
   },
   "outputs": [
    {
     "name": "stdout",
     "output_type": "stream",
     "text": [
      "Voter % for Bartlet vs Hoynes\n",
      "Q3\n",
      "1    0.386464\n",
      "2    0.342611\n",
      "Name: Age, dtype: float64\n",
      "\n",
      "\n",
      "Voter % for Bartlet vs Hoynes (amongst Likely to Vote or greater)\n",
      "Q3\n",
      "1    0.360833\n",
      "2    0.321986\n",
      "Name: Age, dtype: float64\n"
     ]
    }
   ],
   "source": [
    "print \"Voter % for Bartlet vs Hoynes\"\n",
    "print Q3_hist[:2]/len(q1.index)\n",
    "print \"\\n\"\n",
    "print \"Voter % for Bartlet vs Hoynes (amongst Likely to Vote or greater)\"\n",
    "print q1[q1['Q1']<4].groupby(['Q3'])['Age'].count()[:2]/len(q1.index)"
   ]
  },
  {
   "cell_type": "code",
   "execution_count": 8,
   "metadata": {
    "collapsed": false
   },
   "outputs": [
    {
     "data": {
      "image/png": "[encoded data removed]",
      "text/plain": [
       "<matplotlib.figure.Figure at 0x10f4d1610>"
      ]
     },
     "metadata": {},
     "output_type": "display_data"
    }
   ],
   "source": [
    "q1['Age'].hist()\n",
    "plt.savefig('Q1_age_dist.png')"
   ]
  },
  {
   "cell_type": "code",
   "execution_count": 91,
   "metadata": {
    "collapsed": false
   },
   "outputs": [
    {
     "name": "stdout",
     "output_type": "stream",
     "text": [
      "mean: 67.7276732078\n",
      "median: 68.0\n"
     ]
    }
   ],
   "source": [
    "print \"mean: {}\".format(q1['Age'].mean())\n",
    "print \"median: {}\".format(q1['Age'].median())"
   ]
  },
  {
   "cell_type": "markdown",
   "metadata": {},
   "source": [
    "> A telephone survey should only reach people at their home phone numbers on land lines that happen to be at home  most likely during business hours. These targeted participants are more likely to be older, maybe be stay-at-home adults, and have been situated in a domestic situation at their address. Most likely these targeted participants are part of households that are families. Due to the participants being older, they potentially lean more conservative and/or Republican (as shown below - in the party histogram)."
   ]
  },
  {
   "cell_type": "code",
   "execution_count": 104,
   "metadata": {
    "collapsed": false
   },
   "outputs": [
    {
     "data": {
      "image/png": "[encoded data removed]",
      "text/plain": [
       "<matplotlib.figure.Figure at 0x11003a3d0>"
      ]
     },
     "metadata": {},
     "output_type": "display_data"
    }
   ],
   "source": [
    "df_gender = q1.groupby(['Gender'])['Gender'].count()\n",
    "df_gender.plot(kind='bar');\n",
    "plt.title(\"Gender Count\")\n",
    "plt.savefig('Q1_gender_dist.png')"
   ]
  },
  {
   "cell_type": "markdown",
   "metadata": {},
   "source": [
    "> The gender proportion is heavily female"
   ]
  },
  {
   "cell_type": "code",
   "execution_count": 566,
   "metadata": {
    "collapsed": false,
    "scrolled": true
   },
   "outputs": [
    {
     "data": {
      "image/png": "[encoded data removed]",
      "text/plain": [
       "<matplotlib.figure.Figure at 0x11f50c5d0>"
      ]
     },
     "metadata": {},
     "output_type": "display_data"
    }
   ],
   "source": [
    "ind_party = q1.groupby(['Party Registration'])['Age'].count().index\n",
    "party_F = q1[q1['Gender']=='F'].groupby(['Party Registration'])['Age'].count()\n",
    "party_M = q1[q1['Gender']=='M'].groupby(['Party Registration'])['Age'].count()\n",
    "fig_party_gender = plt.figure()\n",
    "ax_party_gender = fig_party_gender.add_subplot(111)\n",
    "ax_party_gender.bar(range(len(party_F)), party_F, width=barw, color='r', label='Female')\n",
    "ax_party_gender.bar(range(len(party_F)), party_M, bottom=party_F, width=barw, color='b', label='Male')\n",
    "plt.xticks(range(len(party_F)), party_F.index)\n",
    "plt.legend(loc='upper left')\n",
    "plt.title(\"Party Registration by Gender\")\n",
    "plt.savefig(\"Party Hist.png\")"
   ]
  },
  {
   "cell_type": "markdown",
   "metadata": {},
   "source": [
    "> Proportionally, Republicans have the largest percentage of males"
   ]
  },
  {
   "cell_type": "code",
   "execution_count": 645,
   "metadata": {
    "collapsed": false
   },
   "outputs": [
    {
     "name": "stdout",
     "output_type": "stream",
     "text": [
      "Gender                     F         M\n",
      "Party Registration                    \n",
      "D                   0.271526  0.110933\n",
      "I                   0.114137  0.048458\n",
      "R                   0.319984  0.134962\n"
     ]
    }
   ],
   "source": [
    "#Party-Gender Proportions\n",
    "norm_party_gender=party_gender/party_gender.sum().sum()\n",
    "print norm_party_gender"
   ]
  },
  {
   "cell_type": "code",
   "execution_count": 599,
   "metadata": {
    "collapsed": false
   },
   "outputs": [
    {
     "data": {
      "image/png": "[encoded data removed]",
      "text/plain": [
       "<matplotlib.figure.Figure at 0x11d6b0550>"
      ]
     },
     "metadata": {},
     "output_type": "display_data"
    }
   ],
   "source": [
    "# Heatmap of Gender to Party Registration\n",
    "fig_heat, ax_heat = plt.subplots()\n",
    "heatmap = ax_heat.pcolor(party_gender, cmap=plt.cm.Blues, alpha=0.8)\n",
    "# put the major ticks at the middle of each cell\n",
    "#ax.set_yticks(np.arange(party_gender.shape[0]) + .5, minor=False)\n",
    "#ax.set_xticks(np.arange(party_gender.shape[1]) + .5, minor=False)\n",
    "#ax_heat.invert_yaxis()\n",
    "# set the x-axis labels on the top\n",
    "#ax_heat.xaxis.tick_top()\n",
    "#ax_heat.set_xticklabels(party_gender.columns, ha='center', size=10, weight=10, minor=False)\n",
    "#ax_heat.set_yticklabels(party_gender.index, va='center', size=10, weight=10, minor=False)\n",
    "# rotate the x-axis labels\n",
    "#plt.xticks(rotation=90)\n",
    "plt.tick_params(\n",
    "    axis='x',          # changes apply to the x-axis\n",
    "    which='both',      # both major and minor ticks are affected\n",
    "    bottom='off',      # ticks along the bottom edge are off\n",
    "    top='off',         # ticks along the top edge are off\n",
    "    labelbottom='off')\n",
    "ax_heat.get_xaxis().set_visible(False)\n",
    "ax_heat.get_yaxis().set_visible(False)\n",
    "plt.text(0.5,3.1,'F')\n",
    "plt.text(1.5,3.1,'M')\n",
    "plt.text(-0.2,2.5,'R')\n",
    "plt.text(-0.2,1.5,'I')\n",
    "plt.text(-0.2,0.5,'D')\n",
    "# Format\n",
    "fig_heat = plt.gcf()\n",
    "fig_heat.set_size_inches(2, 2)"
   ]
  },
  {
   "cell_type": "markdown",
   "metadata": {},
   "source": [
    "> In terms of Party Registration, the survey population reflects NH’s overall voting breakdown by having a strong independent streak and leaning Republican. "
   ]
  },
  {
   "cell_type": "code",
   "execution_count": 570,
   "metadata": {
    "collapsed": false,
    "scrolled": false
   },
   "outputs": [
    {
     "data": {
      "image/png": "[encoded data removed]",
      "text/plain": [
       "<matplotlib.figure.Figure at 0x11bb32290>"
      ]
     },
     "metadata": {},
     "output_type": "display_data"
    }
   ],
   "source": [
    "sns.set(font_scale=1)\n",
    "sns.set_style({\"savefig.dpi\": 80})\n",
    "Q3_hist = q1.groupby(['Q3'])['Age'].count()\n",
    "Q3_count = np.asarray(q1.groupby(['Q3'])['Age'].count())\n",
    "options = ['1-Bartlet','2-Hoynes','3-Ingle','4-Other','5-Undecided','6-Refused']\n",
    "ind = Q3_hist.index[:-1]\n",
    "width = 0.5\n",
    "barw = 0.25\n",
    "fig = plt.figure(figsize=(8,7))\n",
    "ax1 = fig.add_subplot(411)\n",
    "votes1 = ax1.bar(ind, q1.groupby(['Q3'])['Age'].count()[:-1], barw, color='r')\n",
    "votes2 = ax1.bar(ind+barw , q1[q1['Q1']<4].groupby(['Q3'])['Age'].count()[:-1], barw , color='g')\n",
    "votes3 = ax1.bar(ind+(barw*2), q1[q1['Q1']>3].groupby(['Q3'])['Age'].count()[:-1], barw , color='y')\n",
    "plt.title('Distribution of Votes Among Candidates')\n",
    "ax1.legend((votes1[0], votes2[0],votes3[0]), ('Votes', 'Votes|Probably Vote','Votes|Probably Wont Vote'))\n",
    "plt.xticks(ind+width, options)\n",
    "ax2 = fig.add_subplot(412)\n",
    "ax2.bar(ind, q1[q1['Q1']>3].groupby(['Q3'])['Age'].count()[:-1], barw , color='y')\n",
    "plt.title(\"Voting Preference for Likely Non-Voters\")\n",
    "ax2.legend(['Votes|Probably Wont Vote'])\n",
    "plt.xticks(ind+barw, options)\n",
    "ax3 = fig.add_subplot(413)\n",
    "Q1_party = pd.crosstab(q1['Party Registration'],q1['Q3'], colnames=[\"Voting Likelihood\"])\n",
    "ind_3 = np.array(Q1_party.columns)[:-1]\n",
    "dem = np.array(Q1_party.iloc[0,:-1])\n",
    "indpnt = np.array(Q1_party.iloc[1,:-1])\n",
    "rep = np.array(Q1_party.iloc[2,:-1])\n",
    "dems = ax3.bar(ind_3, dem, width=barw , color='b', label='Dem')\n",
    "reps = ax3.bar(ind_3, rep, bottom=dem, width=barw, color='r',label='Rep')\n",
    "inds = ax3.bar(ind_3, indpnt, bottom=rep+dem, width=barw, color='y',label='Ind')\n",
    "plt.title(\"Voting Likelihood by Party Registration\")\n",
    "plt.xticks(ind_3+barw, options)\n",
    "plt.legend(loc='upper right')\n",
    "ax3.legend()\n",
    "ax4 = fig.add_subplot(414)\n",
    "q3_F = ax4.bar(ind, q1[q1['Gender']=='F'].groupby(['Q3'])['Age'].count()[:-1], barw, color='r', label='F')\n",
    "q3_M = ax4.bar(ind+barw, q1[q1['Gender']=='M'].groupby(['Q3'])['Age'].count(), barw , color='g',label='M')\n",
    "plt.title(\"Candidate Preference by Voter Gender\")\n",
    "plt.legend(loc='upper right')\n",
    "plt.xticks(ind+barw, options)\n",
    "plt.tight_layout()"
   ]
  },
  {
   "cell_type": "markdown",
   "metadata": {},
   "source": [
    "> Perhaps the high proportion of female survey respondents is providing more of a bias for Bartlet amongst Republicans and Independents. If the general population is weighted more evenly between genders, the gap might be closer between Bartlet and Hoynes"
   ]
  },
  {
   "cell_type": "code",
   "execution_count": 537,
   "metadata": {
    "collapsed": false
   },
   "outputs": [
    {
     "data": {
      "text/html": [
       "<div>\n",
       "<table border=\"1\" class=\"dataframe\">\n",
       "  <thead>\n",
       "    <tr style=\"text-align: right;\">\n",
       "      <th></th>\n",
       "      <th>Q4</th>\n",
       "      <th>Q6</th>\n",
       "    </tr>\n",
       "  </thead>\n",
       "  <tbody>\n",
       "    <tr>\n",
       "      <th>Q4</th>\n",
       "      <td>1.000000</td>\n",
       "      <td>0.270127</td>\n",
       "    </tr>\n",
       "    <tr>\n",
       "      <th>Q6</th>\n",
       "      <td>0.270127</td>\n",
       "      <td>1.000000</td>\n",
       "    </tr>\n",
       "  </tbody>\n",
       "</table>\n",
       "</div>"
      ],
      "text/plain": [
       "          Q4        Q6\n",
       "Q4  1.000000  0.270127\n",
       "Q6  0.270127  1.000000"
      ]
     },
     "execution_count": 537,
     "metadata": {},
     "output_type": "execute_result"
    }
   ],
   "source": [
    "#Correlation between Obama/Romney/Other and Bartlet/Hoynes/Other\n",
    "Q4 = q1['Q4'].replace([3,4,5],np.repeat(3,3))\n",
    "Q6 = q1['Q6'].replace([3,4,5],np.repeat(3,3))\n",
    "corr_Q4_Q6 = pd.concat([Q4,Q6],axis=1)\n",
    "corr_Q4_Q6.corr()"
   ]
  },
  {
   "cell_type": "markdown",
   "metadata": {},
   "source": [
    "> There is little correlation between whether voters voted for Obama/Romney in 2012 and whether they will vote for Bartlet/Hoynes respectively. NH does not appear to vote straight down party lines"
   ]
  },
  {
   "cell_type": "code",
   "execution_count": 542,
   "metadata": {
    "collapsed": false
   },
   "outputs": [
    {
     "data": {
      "text/html": [
       "<div>\n",
       "<table border=\"1\" class=\"dataframe\">\n",
       "  <thead>\n",
       "    <tr style=\"text-align: right;\">\n",
       "      <th>Governor Approval</th>\n",
       "      <th>0</th>\n",
       "      <th>1</th>\n",
       "      <th>2</th>\n",
       "      <th>3</th>\n",
       "      <th>4</th>\n",
       "      <th>5</th>\n",
       "      <th>6</th>\n",
       "    </tr>\n",
       "    <tr>\n",
       "      <th>Party Registration</th>\n",
       "      <th></th>\n",
       "      <th></th>\n",
       "      <th></th>\n",
       "      <th></th>\n",
       "      <th></th>\n",
       "      <th></th>\n",
       "      <th></th>\n",
       "    </tr>\n",
       "  </thead>\n",
       "  <tbody>\n",
       "    <tr>\n",
       "      <th>D</th>\n",
       "      <td>0.0002</td>\n",
       "      <td>0.282539</td>\n",
       "      <td>0.087705</td>\n",
       "      <td>0.011614</td>\n",
       "      <td>0.000200</td>\n",
       "      <td>0.0000</td>\n",
       "      <td>0.0002</td>\n",
       "    </tr>\n",
       "    <tr>\n",
       "      <th>I</th>\n",
       "      <td>0.0000</td>\n",
       "      <td>0.071286</td>\n",
       "      <td>0.085102</td>\n",
       "      <td>0.006207</td>\n",
       "      <td>0.000000</td>\n",
       "      <td>0.0000</td>\n",
       "      <td>0.0000</td>\n",
       "    </tr>\n",
       "    <tr>\n",
       "      <th>R</th>\n",
       "      <td>0.0004</td>\n",
       "      <td>0.107729</td>\n",
       "      <td>0.330396</td>\n",
       "      <td>0.015419</td>\n",
       "      <td>0.000601</td>\n",
       "      <td>0.0004</td>\n",
       "      <td>0.0000</td>\n",
       "    </tr>\n",
       "  </tbody>\n",
       "</table>\n",
       "</div>"
      ],
      "text/plain": [
       "Governor Approval        0         1         2         3         4       5  \\\n",
       "Party Registration                                                           \n",
       "D                   0.0002  0.282539  0.087705  0.011614  0.000200  0.0000   \n",
       "I                   0.0000  0.071286  0.085102  0.006207  0.000000  0.0000   \n",
       "R                   0.0004  0.107729  0.330396  0.015419  0.000601  0.0004   \n",
       "\n",
       "Governor Approval        6  \n",
       "Party Registration          \n",
       "D                   0.0002  \n",
       "I                   0.0000  \n",
       "R                   0.0000  "
      ]
     },
     "execution_count": 542,
     "metadata": {},
     "output_type": "execute_result"
    }
   ],
   "source": [
    "#Party Registration and Governor Approval Proportions\n",
    "pd.crosstab(q1['Party Registration'],q1['Q5'], colnames=[\"Governor Approval\"])/len(q1.index)"
   ]
  },
  {
   "cell_type": "code",
   "execution_count": 642,
   "metadata": {
    "collapsed": false
   },
   "outputs": [
    {
     "data": {
      "text/html": [
       "<div>\n",
       "<table border=\"1\" class=\"dataframe\">\n",
       "  <thead>\n",
       "    <tr style=\"text-align: right;\">\n",
       "      <th>Political Views</th>\n",
       "      <th>1</th>\n",
       "      <th>2</th>\n",
       "      <th>3</th>\n",
       "      <th>4</th>\n",
       "      <th>5</th>\n",
       "      <th>6</th>\n",
       "      <th>8</th>\n",
       "    </tr>\n",
       "    <tr>\n",
       "      <th>Party Registration</th>\n",
       "      <th></th>\n",
       "      <th></th>\n",
       "      <th></th>\n",
       "      <th></th>\n",
       "      <th></th>\n",
       "      <th></th>\n",
       "      <th></th>\n",
       "    </tr>\n",
       "  </thead>\n",
       "  <tbody>\n",
       "    <tr>\n",
       "      <th>D</th>\n",
       "      <td>0.267922</td>\n",
       "      <td>0.014818</td>\n",
       "      <td>0.094714</td>\n",
       "      <td>0.004405</td>\n",
       "      <td>0.0000</td>\n",
       "      <td>0.0004</td>\n",
       "      <td>0.0002</td>\n",
       "    </tr>\n",
       "    <tr>\n",
       "      <th>I</th>\n",
       "      <td>0.014818</td>\n",
       "      <td>0.019824</td>\n",
       "      <td>0.123148</td>\n",
       "      <td>0.004806</td>\n",
       "      <td>0.0000</td>\n",
       "      <td>0.0000</td>\n",
       "      <td>0.0000</td>\n",
       "    </tr>\n",
       "    <tr>\n",
       "      <th>R</th>\n",
       "      <td>0.021826</td>\n",
       "      <td>0.304966</td>\n",
       "      <td>0.123949</td>\n",
       "      <td>0.003805</td>\n",
       "      <td>0.0002</td>\n",
       "      <td>0.0002</td>\n",
       "      <td>0.0000</td>\n",
       "    </tr>\n",
       "  </tbody>\n",
       "</table>\n",
       "</div>"
      ],
      "text/plain": [
       "Political Views            1         2         3         4       5       6  \\\n",
       "Party Registration                                                           \n",
       "D                   0.267922  0.014818  0.094714  0.004405  0.0000  0.0004   \n",
       "I                   0.014818  0.019824  0.123148  0.004806  0.0000  0.0000   \n",
       "R                   0.021826  0.304966  0.123949  0.003805  0.0002  0.0002   \n",
       "\n",
       "Political Views          8  \n",
       "Party Registration          \n",
       "D                   0.0002  \n",
       "I                   0.0000  \n",
       "R                   0.0000  "
      ]
     },
     "execution_count": 642,
     "metadata": {},
     "output_type": "execute_result"
    }
   ],
   "source": [
    "#Party Registration and Political Views Proportions\n",
    "pd.crosstab(q1['Party Registration'],q1['Q7'], colnames=[\"Political Views\"])/len(q1.index)"
   ]
  },
  {
   "cell_type": "markdown",
   "metadata": {},
   "source": [
    "The staffer is not correct (also not incorrect) for the following reasons:\n",
    "\n",
    "> A telephone survey should only reach people at their home phone numbers on land lines that happen to be at home during what are most likely business hours. These targeted participants are older as seen in the age distribution histograms, they are mostly female and most likely in family households. \n",
    "\n",
    "> One benefit is that the survey was fairly large with 5000 respondents. However, the mostly female weighted respondents may add bias for a female candidate. In terms of party registration, the breakdown of the respondents seems to be fairly reflective of the NH voting population: mostly Republican with a significant Independent streak. \n",
    "\n",
    "> Interestingly Independents mostly view themselves as \"moderate\" in their political views. \n",
    "\n",
    "> In terms of poll respondents Bartlet to Hoynes is 39% to 34%, however when you take into account those who are LIKELY to vote, that margin shrinks to 4% (36% to 32%). On the other hand, younger voters, who were not represented in this survey, may be more likely to vote Democratic fo Bartlet; however the effect may be reduced with more male voters who may not be as biased for a female candidate as female voters."
   ]
  },
  {
   "cell_type": "markdown",
   "metadata": {},
   "source": [
    "# Question 2\n",
    "What is the effect of the independent candidate Jessica Ingle on this race?  Is she drawing more support away from Bartlet or from Hoynes?  Why do you say that?"
   ]
  },
  {
   "cell_type": "code",
   "execution_count": 575,
   "metadata": {
    "collapsed": false
   },
   "outputs": [
    {
     "name": "stdout",
     "output_type": "stream",
     "text": [
      "Q4\n",
      "1    2389\n",
      "2    2208\n",
      "3      36\n",
      "4     355\n",
      "5       5\n",
      "9       1\n",
      "Name: Age, dtype: int64\n"
     ]
    },
    {
     "data": {
      "image/png": "[encoded data removed]",
      "text/plain": [
       "<matplotlib.figure.Figure at 0x11c2b6ad0>"
      ]
     },
     "metadata": {},
     "output_type": "display_data"
    }
   ],
   "source": [
    "#Candidate votes if Ingle dropout\n",
    "q1['Q4'].hist()\n",
    "Q4_count = np.asarray(q1.groupby(['Q4'])['Age'].count())\n",
    "print q1.groupby(['Q4'])['Age'].count()\n",
    "plt.title('Distribution of Votes w/out Ingle')\n",
    "plt.xlabel(['1-Bartlet','2-Hoynes','3-Other','4-Undecided','5-Refused'])\n",
    "plt.savefig('Q1_q4.png')"
   ]
  },
  {
   "cell_type": "code",
   "execution_count": 132,
   "metadata": {
    "collapsed": false
   },
   "outputs": [
    {
     "data": {
      "image/png": "[encoded data removed]",
      "text/plain": [
       "<matplotlib.figure.Figure at 0x11150b710>"
      ]
     },
     "metadata": {},
     "output_type": "display_data"
    }
   ],
   "source": [
    "Q4_count = np.insert(Q4_count,2,0,axis=0) #inserting Ingle to match np arrays\n",
    "plt.figure(figsize=(14,5))\n",
    "pd.Series(Q4_count - Q3_count).plot(kind='bar')\n",
    "plt.title(\"Vote Redistribution w/out Ingle\")\n",
    "for x,y in enumerate(Q4_count - Q3_count):\n",
    "    plt.text(x,y + 0.05, '%.2f' % y, ha='center', va='bottom')\n",
    "plt.xlabel(['0-Bartlet','1-Hoynes','2-Ingle','3-Other','4-Undecided','5-Refused']);"
   ]
  },
  {
   "cell_type": "code",
   "execution_count": 515,
   "metadata": {
    "collapsed": false
   },
   "outputs": [
    {
     "data": {
      "text/html": [
       "<div>\n",
       "<table border=\"1\" class=\"dataframe\">\n",
       "  <thead>\n",
       "    <tr style=\"text-align: right;\">\n",
       "      <th></th>\n",
       "      <th>1</th>\n",
       "      <th>2</th>\n",
       "      <th>3</th>\n",
       "      <th>4</th>\n",
       "      <th>5</th>\n",
       "      <th>9</th>\n",
       "    </tr>\n",
       "  </thead>\n",
       "  <tbody>\n",
       "    <tr>\n",
       "      <th>1</th>\n",
       "      <td>0.774430</td>\n",
       "      <td>-0.664322</td>\n",
       "      <td>-0.057907</td>\n",
       "      <td>-0.198748</td>\n",
       "      <td>-0.025125</td>\n",
       "      <td>-0.011232</td>\n",
       "    </tr>\n",
       "    <tr>\n",
       "      <th>2</th>\n",
       "      <td>-0.651645</td>\n",
       "      <td>0.758252</td>\n",
       "      <td>-0.056528</td>\n",
       "      <td>-0.178361</td>\n",
       "      <td>-0.009513</td>\n",
       "      <td>-0.010217</td>\n",
       "    </tr>\n",
       "    <tr>\n",
       "      <th>3</th>\n",
       "      <td>-0.115282</td>\n",
       "      <td>-0.032539</td>\n",
       "      <td>0.047001</td>\n",
       "      <td>0.270199</td>\n",
       "      <td>0.014049</td>\n",
       "      <td>-0.007452</td>\n",
       "    </tr>\n",
       "    <tr>\n",
       "      <th>4</th>\n",
       "      <td>-0.028031</td>\n",
       "      <td>-0.016699</td>\n",
       "      <td>0.129785</td>\n",
       "      <td>0.044285</td>\n",
       "      <td>-0.001679</td>\n",
       "      <td>-0.000750</td>\n",
       "    </tr>\n",
       "    <tr>\n",
       "      <th>5</th>\n",
       "      <td>-0.083810</td>\n",
       "      <td>-0.097128</td>\n",
       "      <td>0.121545</td>\n",
       "      <td>0.308128</td>\n",
       "      <td>0.021767</td>\n",
       "      <td>-0.003249</td>\n",
       "    </tr>\n",
       "    <tr>\n",
       "      <th>6</th>\n",
       "      <td>-0.007119</td>\n",
       "      <td>-0.021826</td>\n",
       "      <td>0.094514</td>\n",
       "      <td>0.025021</td>\n",
       "      <td>-0.000776</td>\n",
       "      <td>-0.000347</td>\n",
       "    </tr>\n",
       "    <tr>\n",
       "      <th>9</th>\n",
       "      <td>-0.019168</td>\n",
       "      <td>-0.017819</td>\n",
       "      <td>-0.001706</td>\n",
       "      <td>-0.005537</td>\n",
       "      <td>0.315816</td>\n",
       "      <td>0.707036</td>\n",
       "    </tr>\n",
       "  </tbody>\n",
       "</table>\n",
       "</div>"
      ],
      "text/plain": [
       "          1         2         3         4         5         9\n",
       "1  0.774430 -0.664322 -0.057907 -0.198748 -0.025125 -0.011232\n",
       "2 -0.651645  0.758252 -0.056528 -0.178361 -0.009513 -0.010217\n",
       "3 -0.115282 -0.032539  0.047001  0.270199  0.014049 -0.007452\n",
       "4 -0.028031 -0.016699  0.129785  0.044285 -0.001679 -0.000750\n",
       "5 -0.083810 -0.097128  0.121545  0.308128  0.021767 -0.003249\n",
       "6 -0.007119 -0.021826  0.094514  0.025021 -0.000776 -0.000347\n",
       "9 -0.019168 -0.017819 -0.001706 -0.005537  0.315816  0.707036"
      ]
     },
     "execution_count": 515,
     "metadata": {},
     "output_type": "execute_result"
    }
   ],
   "source": [
    "pd.concat([pd.get_dummies(q1['Q3']),pd.get_dummies(q1['Q4'])],axis=1).corr().iloc[:7,-6:]"
   ]
  },
  {
   "cell_type": "code",
   "execution_count": 723,
   "metadata": {
    "collapsed": false
   },
   "outputs": [
    {
     "name": "stdout",
     "output_type": "stream",
     "text": [
      "Q3 Bartlet voters: 1930\n",
      "Q4 Bartlet voters: 2389\n",
      "Loyal Bartlet voters: 1864\n",
      "Ingle-dropout Bartlet defectors: -66\n"
     ]
    }
   ],
   "source": [
    "#Bartlet preferring voters\n",
    "Q2_Q3_Bartlet = np.array(q1['Q3']==1) #voters for Bartlet in Q3\n",
    "print \"Q3 Bartlet voters: {}\".format(np.sum(Q2_Q3_Bartlet))\n",
    "Q2_Q4_Bartlet = np.array(q1['Q4']==1) #voters for Barlet in Q4\n",
    "print \"Q4 Bartlet voters: {}\".format(np.sum(Q2_Q4_Bartlet))\n",
    "print \"Loyal Bartlet voters: {}\".format(np.sum(Q2_Q3_Bartlet*Q2_Q4_Bartlet)) #voters for Barlet in Q3 AND Q4)\n",
    "print \"Ingle-dropout Bartlet defectors: {}\".format(np.sum(Q2_Q3_Bartlet*Q2_Q4_Bartlet) - np.sum(Q2_Q3_Bartlet))"
   ]
  },
  {
   "cell_type": "code",
   "execution_count": 724,
   "metadata": {
    "collapsed": false
   },
   "outputs": [
    {
     "name": "stdout",
     "output_type": "stream",
     "text": [
      "Q3 Hoynes voters: 1711\n",
      "Q4 Hoynes voters: 2208\n",
      "Loyal Hoynes voters: 1649\n",
      "Ingle-dropout Hoynes defectors: -62\n"
     ]
    }
   ],
   "source": [
    "#Hoynes preferring voters\n",
    "Q2_Q3_Hoynes = np.array(q1['Q3']==2) #voters for Hoyne in Q3\n",
    "print \"Q3 Hoynes voters: {}\".format(np.sum(Q2_Q3_Hoynes))\n",
    "Q2_Q4_Hoynes = np.array(q1['Q4']==2) #voters for Hoyne in Q4\n",
    "print \"Q4 Hoynes voters: {}\".format(np.sum(Q2_Q4_Hoynes))\n",
    "print \"Loyal Hoynes voters: {}\".format(np.sum(Q2_Q3_Hoynes*Q2_Q4_Hoynes)) #voters for Hoyne in Q3 AND Q4\n",
    "print \"Ingle-dropout Hoynes defectors: {}\".format(np.sum(Q2_Q3_Hoynes*Q2_Q4_Hoynes) - np.sum(Q2_Q3_Hoynes))"
   ]
  },
  {
   "cell_type": "code",
   "execution_count": 725,
   "metadata": {
    "collapsed": false
   },
   "outputs": [
    {
     "name": "stdout",
     "output_type": "stream",
     "text": [
      "Bartlet-to-Hoynes on Ingle dropout: 51\n",
      "Hoynes-to-Bartlet on Ingle dropout: 47\n"
     ]
    }
   ],
   "source": [
    "#Defectors\n",
    "print \"Bartlet-to-Hoynes on Ingle dropout: {}\".format(np.sum(Q2_Q3_Bartlet*Q2_Q4_Hoynes))\n",
    "print \"Hoynes-to-Bartlet on Ingle dropout: {}\".format(np.sum(Q2_Q3_Hoynes*Q2_Q4_Bartlet))"
   ]
  },
  {
   "cell_type": "code",
   "execution_count": 728,
   "metadata": {
    "collapsed": false
   },
   "outputs": [
    {
     "name": "stdout",
     "output_type": "stream",
     "text": [
      "Q3 Undecided voters: 250\n",
      "Q4 Undecided voters: 355\n",
      "Undecided to Bartlet: 74\n",
      "Undecided to Hoynes: 58\n",
      "Bartlet-to-undecided on Ingle dropout: 13\n",
      "Hoynes-to-undecided on Ingle dropout: 13\n"
     ]
    }
   ],
   "source": [
    "#Q4 Undecided voters\n",
    "Q2_Q3_undecided = np.array(q1['Q3']==5) #voters for undecided in Q3\n",
    "print \"Q3 Undecided voters: {}\".format(np.sum(Q2_Q3_undecided))\n",
    "Q2_Q4_undecided = np.array(q1['Q4']==4) #voters for undecided in Q4\n",
    "print \"Q4 Undecided voters: {}\".format(np.sum(Q2_Q4_undecided))\n",
    "print \"Undecided to Bartlet: {}\".format(np.sum(Q2_Q3_undecided*Q2_Q4_Bartlet))\n",
    "print \"Undecided to Hoynes: {}\".format(np.sum(Q2_Q3_undecided*Q2_Q4_Hoynes))\n",
    "print \"Bartlet-to-undecided on Ingle dropout: {}\".format(np.sum(Q2_Q3_Bartlet*Q2_Q4_undecided)) #voters for Bartlet in Q3 AND undecided in Q4\n",
    "print \"Hoynes-to-undecided on Ingle dropout: {}\".format(np.sum(Q2_Q3_Hoynes*Q2_Q4_undecided)) #voters for Hoynes in Q3 AND undecided in Q4"
   ]
  },
  {
   "cell_type": "markdown",
   "metadata": {},
   "source": [
    ">- Overall slightly more votes go to the Republican candidate Hoynes if Ingle drops out. \n",
    ">- Undecided received a large bump from Ingle voters with an even number of defectors from the Bartlet and Hoynes camp.\n",
    ">- Interestingly a larger number of Undecided switch to the Bartlet camp if Ingle drops out\n",
    ">- Also, Bartlet and Hoynes voters switch evenly (about 1% of survey respondents) if Ingle drops out (why?.. see below)"
   ]
  },
  {
   "cell_type": "code",
   "execution_count": 714,
   "metadata": {
    "collapsed": false,
    "scrolled": true
   },
   "outputs": [
    {
     "data": {
      "image/png": "[encoded data removed]",
      "text/plain": [
       "<matplotlib.figure.Figure at 0x11df1e8d0>"
      ]
     },
     "metadata": {},
     "output_type": "display_data"
    }
   ],
   "source": [
    "fig_B2H = plt.figure(figsize=(12,7))\n",
    "fig_B2H.text(0,1,\"Bartlet-to-Hoynes Switchers\", size=20)\n",
    "ax_B2H_Q1 = fig_B2H.add_subplot(241)\n",
    "Q1_B2H = q1[Q2_Q3_Bartlet*Q2_Q4_Hoynes].groupby('Q1')['Q1'].count()\n",
    "ax_B2H_Q1.bar(Q1_B2H.index,Q1_B2H,width=0.8)\n",
    "ax_B2H_Q1.set_title(\"Q1: Voting Likelihood\")\n",
    "ax_B2H_Q6 = fig_B2H.add_subplot(242)\n",
    "Q6_B2H = q1[Q2_Q3_Bartlet*Q2_Q4_Hoynes].groupby('Q6')['Q6'].count()\n",
    "ax_B2H_Q6.bar(Q6_B2H.index,Q6_B2H,width=0.8)\n",
    "ax_B2H_Q6.set_title(\"Q6: Obama/Romney/Other\")\n",
    "ax_B2H_Q7 = fig_B2H.add_subplot(243)\n",
    "Q7_B2H = q1[Q2_Q3_Bartlet*Q2_Q4_Hoynes].groupby('Q7')['Q7'].count()\n",
    "ax_B2H_Q7.bar(Q7_B2H.index,Q7_B2H,width=0.8)\n",
    "ax_B2H_Q7.set_title(\"Q7: Liberal/Conservative/Moderate\")\n",
    "ax_B2H_Q2 = fig_B2H.add_subplot(244)\n",
    "Q2_B2H = q1[Q2_Q3_Bartlet*Q2_Q4_Hoynes].groupby('Q2')['Q2'].count()\n",
    "ax_B2H_Q2.bar(Q2_B2H.index,Q2_B2H,width=0.8)\n",
    "ax_B2H_Q2.set_title(\"Q2: Dem/Rep Governor\")\n",
    "ax_B2H_G = fig_B2H.add_subplot(245)\n",
    "G_B2H = q1[Q2_Q3_Bartlet*Q2_Q4_Hoynes].groupby('Gender')['Gender'].count()\n",
    "ax_B2H_G.bar(range(1,len(G_B2H.index)+1),G_B2H,width=0.8)\n",
    "ax_B2H_G.set_title(\"Gender\")\n",
    "ax_B2H_party = fig_B2H.add_subplot(246)\n",
    "P_B2H = q1[Q2_Q3_Bartlet*Q2_Q4_Hoynes].groupby('Party Registration')['Party Registration'].count()\n",
    "ax_B2H_party.bar(range(1,len(P_B2H.index)+1),P_B2H,width=0.8)\n",
    "ax_B2H_party.set_title(\"Dem/Ind/Rep\")\n",
    "ax_B2H_age = fig_B2H.add_subplot(247)\n",
    "Age_B2H = q1[Q2_Q3_Bartlet*Q2_Q4_Hoynes].groupby('Age')['Gender'].count()\n",
    "ax_B2H_age.bar(Age_B2H.index,Age_B2H,width=0.8)\n",
    "ax_B2H_age.set_title(\"Age Group\")\n",
    "plt.tight_layout()"
   ]
  },
  {
   "cell_type": "markdown",
   "metadata": {},
   "source": [
    "> The Bartlet to Hoynes switchers are largely Republican, self-identified as conservative and evenly spread between 50-100"
   ]
  },
  {
   "cell_type": "code",
   "execution_count": 717,
   "metadata": {
    "collapsed": false
   },
   "outputs": [
    {
     "data": {
      "image/png": "[encoded data removed]",
      "text/plain": [
       "<matplotlib.figure.Figure at 0x12e3fb6d0>"
      ]
     },
     "metadata": {},
     "output_type": "display_data"
    }
   ],
   "source": [
    "fig_H2B = plt.figure(figsize=(12,7))\n",
    "fig_H2B.text(0,1,\"Hoynes-to-Bartlet Switchers\", size=20)\n",
    "ax_H2B_Q1 = fig_H2B.add_subplot(241)\n",
    "Q1_H2B = q1[Q2_Q3_Hoynes*Q2_Q4_Bartlet].groupby('Q1')['Q1'].count()\n",
    "ax_H2B_Q1.bar(Q1_H2B.index,Q1_H2B,width=0.8)\n",
    "ax_H2B_Q1.set_title(\"Q1: Voting Likelihood\")\n",
    "ax_H2B_Q6 = fig_H2B.add_subplot(242)\n",
    "Q6_H2B = q1[Q2_Q3_Hoynes*Q2_Q4_Bartlet].groupby('Q6')['Q6'].count()\n",
    "ax_H2B_Q6.bar(Q6_H2B.index,Q6_H2B,width=0.8)\n",
    "ax_H2B_Q6.set_title(\"Q6: Obama/Romney/Other\")\n",
    "ax_H2B_Q7 = fig_H2B.add_subplot(243)\n",
    "Q7_H2B = q1[Q2_Q3_Hoynes*Q2_Q4_Bartlet].groupby('Q7')['Q7'].count()\n",
    "ax_H2B_Q7.bar(Q7_H2B.index,Q7_H2B,width=0.8)\n",
    "ax_H2B_Q7.set_title(\"Q7: Liberal/Conservative/Moderate\")\n",
    "ax_H2B_Q2 = fig_H2B.add_subplot(244)\n",
    "Q2_H2B = q1[Q2_Q3_Hoynes*Q2_Q4_Bartlet].groupby('Q2')['Q2'].count()\n",
    "ax_H2B_Q2.bar(Q2_H2B.index,Q2_H2B,width=0.8)\n",
    "ax_H2B_Q2.set_title(\"Q2: Dem/Rep Governor\")\n",
    "ax_H2B_G = fig_H2B.add_subplot(245)\n",
    "G_H2B = q1[Q2_Q3_Hoynes*Q2_Q4_Bartlet].groupby('Gender')['Gender'].count()\n",
    "ax_H2B_G.bar(range(1,len(G_H2B.index)+1),G_H2B,width=0.8)\n",
    "ax_H2B_G.set_title(\"Gender\")\n",
    "ax_H2B_party = fig_H2B.add_subplot(246)\n",
    "P_H2B = q1[Q2_Q3_Hoynes*Q2_Q4_Bartlet].groupby('Party Registration')['Party Registration'].count()\n",
    "ax_H2B_party.bar(range(1,len(P_H2B.index)+1),P_H2B,width=0.8)\n",
    "ax_H2B_party.set_title(\"Dem/Ind/Rep\")\n",
    "ax_H2B_age = fig_H2B.add_subplot(247)\n",
    "Age_H2B = q1[Q2_Q3_Hoynes*Q2_Q4_Bartlet].groupby('Age')['Gender'].count()\n",
    "ax_H2B_age.bar(Age_H2B.index,Age_H2B,width=0.8)\n",
    "ax_H2B_age.set_title(\"Age Group\")\n",
    "plt.tight_layout()"
   ]
  },
  {
   "cell_type": "markdown",
   "metadata": {},
   "source": [
    "> The Hoynes to Bartlet switchers are mostly liberal/Dem with a smaller margin between Dem-Rep. A large portion voted for Romney in 2012. The ages are mostly clustered around 70-90"
   ]
  },
  {
   "cell_type": "markdown",
   "metadata": {},
   "source": [
    "# Checking Validity of Survey Results"
   ]
  },
  {
   "cell_type": "markdown",
   "metadata": {},
   "source": [
    "How would you confirm the accuracy of the attached polling results using only the data on this spreadsheet?  What checks would you run on the data to see if the responses in general seemed valid?"
   ]
  },
  {
   "cell_type": "markdown",
   "metadata": {},
   "source": [
    "> I would confirm the accuracy by seeing whether sets of answers correspond. For instance if the people who answered  ‘Approve’ for Q5 are also ‘1’ for Q2, then I would consider the test valid. Some possible checks are listed:\n",
    "-\tParty registration and answers to Q7 *[liberal-Democrat shows correlation 0.68 and conservative-Republican shows correlation 0.63]*\n",
    "-\tSame count: Q2 – ‘1’ and Q5 – ‘Approve’ *[correlation plots show .68]*\n",
    "-\tCorrelation across Other/Refused voters *[voters who are not participating]*\n",
    "-\tCount: Q4 – ‘1’ > Q3 – ‘1’ & Q4 – ‘2’ > Q3 – ‘2’ *[VERIFIED]*"
   ]
  },
  {
   "cell_type": "code",
   "execution_count": 641,
   "metadata": {
    "collapsed": false
   },
   "outputs": [
    {
     "data": {
      "text/html": [
       "<div>\n",
       "<table border=\"1\" class=\"dataframe\">\n",
       "  <thead>\n",
       "    <tr style=\"text-align: right;\">\n",
       "      <th></th>\n",
       "      <th>D</th>\n",
       "      <th>I</th>\n",
       "      <th>R</th>\n",
       "    </tr>\n",
       "  </thead>\n",
       "  <tbody>\n",
       "    <tr>\n",
       "      <th>1</th>\n",
       "      <td>0.677080</td>\n",
       "      <td>-0.204352</td>\n",
       "      <td>-0.509368</td>\n",
       "    </tr>\n",
       "    <tr>\n",
       "      <th>2</th>\n",
       "      <td>-0.499966</td>\n",
       "      <td>-0.202548</td>\n",
       "      <td>0.638028</td>\n",
       "    </tr>\n",
       "    <tr>\n",
       "      <th>3</th>\n",
       "      <td>-0.156238</td>\n",
       "      <td>0.386075</td>\n",
       "      <td>-0.133604</td>\n",
       "    </tr>\n",
       "    <tr>\n",
       "      <th>4</th>\n",
       "      <td>-0.010396</td>\n",
       "      <td>0.064307</td>\n",
       "      <td>-0.037506</td>\n",
       "    </tr>\n",
       "    <tr>\n",
       "      <th>5</th>\n",
       "      <td>-0.011137</td>\n",
       "      <td>-0.006236</td>\n",
       "      <td>0.015490</td>\n",
       "    </tr>\n",
       "    <tr>\n",
       "      <th>6</th>\n",
       "      <td>0.014338</td>\n",
       "      <td>-0.010803</td>\n",
       "      <td>-0.005988</td>\n",
       "    </tr>\n",
       "    <tr>\n",
       "      <th>8</th>\n",
       "      <td>0.017983</td>\n",
       "      <td>-0.006236</td>\n",
       "      <td>-0.012929</td>\n",
       "    </tr>\n",
       "  </tbody>\n",
       "</table>\n",
       "</div>"
      ],
      "text/plain": [
       "          D         I         R\n",
       "1  0.677080 -0.204352 -0.509368\n",
       "2 -0.499966 -0.202548  0.638028\n",
       "3 -0.156238  0.386075 -0.133604\n",
       "4 -0.010396  0.064307 -0.037506\n",
       "5 -0.011137 -0.006236  0.015490\n",
       "6  0.014338 -0.010803 -0.005988\n",
       "8  0.017983 -0.006236 -0.012929"
      ]
     },
     "execution_count": 641,
     "metadata": {},
     "output_type": "execute_result"
    }
   ],
   "source": [
    "#Correlation between self-identified political views and Party Registration\n",
    "pd.concat([pd.get_dummies(q1['Q7']),pd.get_dummies(q1['Party Registration'])],axis=1).corr().iloc[:7,-3:]"
   ]
  },
  {
   "cell_type": "markdown",
   "metadata": {},
   "source": [
    "> There is a medium-strong correlation between Democrat-\"Liberal\", Republican-\"Conservative\", and Independent-\"Moderate\" classification"
   ]
  },
  {
   "cell_type": "code",
   "execution_count": 644,
   "metadata": {
    "collapsed": false
   },
   "outputs": [
    {
     "data": {
      "text/html": [
       "<div>\n",
       "<table border=\"1\" class=\"dataframe\">\n",
       "  <thead>\n",
       "    <tr style=\"text-align: right;\">\n",
       "      <th>Governor Vote</th>\n",
       "      <th>1</th>\n",
       "      <th>2</th>\n",
       "      <th>3</th>\n",
       "      <th>4</th>\n",
       "      <th>5</th>\n",
       "      <th>9</th>\n",
       "    </tr>\n",
       "    <tr>\n",
       "      <th>Party Registration</th>\n",
       "      <th></th>\n",
       "      <th></th>\n",
       "      <th></th>\n",
       "      <th></th>\n",
       "      <th></th>\n",
       "      <th></th>\n",
       "    </tr>\n",
       "  </thead>\n",
       "  <tbody>\n",
       "    <tr>\n",
       "      <th>D</th>\n",
       "      <td>0.289748</td>\n",
       "      <td>0.065679</td>\n",
       "      <td>0.000601</td>\n",
       "      <td>0.026432</td>\n",
       "      <td>0.000000</td>\n",
       "      <td>0.0000</td>\n",
       "    </tr>\n",
       "    <tr>\n",
       "      <th>I</th>\n",
       "      <td>0.069283</td>\n",
       "      <td>0.071085</td>\n",
       "      <td>0.001001</td>\n",
       "      <td>0.021025</td>\n",
       "      <td>0.000000</td>\n",
       "      <td>0.0002</td>\n",
       "    </tr>\n",
       "    <tr>\n",
       "      <th>R</th>\n",
       "      <td>0.091710</td>\n",
       "      <td>0.310573</td>\n",
       "      <td>0.001602</td>\n",
       "      <td>0.050461</td>\n",
       "      <td>0.000601</td>\n",
       "      <td>0.0000</td>\n",
       "    </tr>\n",
       "  </tbody>\n",
       "</table>\n",
       "</div>"
      ],
      "text/plain": [
       "Governor Vote              1         2         3         4         5       9\n",
       "Party Registration                                                          \n",
       "D                   0.289748  0.065679  0.000601  0.026432  0.000000  0.0000\n",
       "I                   0.069283  0.071085  0.001001  0.021025  0.000000  0.0002\n",
       "R                   0.091710  0.310573  0.001602  0.050461  0.000601  0.0000"
      ]
     },
     "execution_count": 644,
     "metadata": {},
     "output_type": "execute_result"
    }
   ],
   "source": [
    "#Party Registration and governor vote\n",
    "pd.crosstab(q1['Party Registration'],q1['Q2'], colnames=[\"Governor Vote\"])/len(q1.index)"
   ]
  },
  {
   "cell_type": "code",
   "execution_count": 639,
   "metadata": {
    "collapsed": false
   },
   "outputs": [
    {
     "data": {
      "text/html": [
       "<div>\n",
       "<table border=\"1\" class=\"dataframe\">\n",
       "  <thead>\n",
       "    <tr style=\"text-align: right;\">\n",
       "      <th></th>\n",
       "      <th>Q2</th>\n",
       "      <th>Q5</th>\n",
       "    </tr>\n",
       "  </thead>\n",
       "  <tbody>\n",
       "    <tr>\n",
       "      <th>Q2</th>\n",
       "      <td>1.000000</td>\n",
       "      <td>0.680394</td>\n",
       "    </tr>\n",
       "    <tr>\n",
       "      <th>Q5</th>\n",
       "      <td>0.680394</td>\n",
       "      <td>1.000000</td>\n",
       "    </tr>\n",
       "  </tbody>\n",
       "</table>\n",
       "</div>"
      ],
      "text/plain": [
       "          Q2        Q5\n",
       "Q2  1.000000  0.680394\n",
       "Q5  0.680394  1.000000"
      ]
     },
     "execution_count": 639,
     "metadata": {},
     "output_type": "execute_result"
    }
   ],
   "source": [
    "#Correlation between Approve/Disapprove/Other of governor and Donough/Stillman/Other\n",
    "Q2 = q1['Q2'].replace([3,4,5],np.repeat(3,3))\n",
    "corr_Q2_Q5 = pd.concat([Q2,q1['Q5']],axis=1)\n",
    "corr_Q2_Q5.corr()"
   ]
  },
  {
   "cell_type": "markdown",
   "metadata": {},
   "source": [
    "> There is a correlation between a voter's approval of the current governor and whether s/he will vote for Donough"
   ]
  },
  {
   "cell_type": "code",
   "execution_count": 748,
   "metadata": {
    "collapsed": false
   },
   "outputs": [
    {
     "data": {
      "text/html": [
       "<div>\n",
       "<table border=\"1\" class=\"dataframe\">\n",
       "  <thead>\n",
       "    <tr style=\"text-align: right;\">\n",
       "      <th></th>\n",
       "      <th>Q1</th>\n",
       "      <th>Q2</th>\n",
       "      <th>Q3</th>\n",
       "      <th>Q4</th>\n",
       "      <th>Q5</th>\n",
       "      <th>Q6</th>\n",
       "      <th>Q7</th>\n",
       "    </tr>\n",
       "  </thead>\n",
       "  <tbody>\n",
       "    <tr>\n",
       "      <th>Q1</th>\n",
       "      <td>1.000000</td>\n",
       "      <td>0.036543</td>\n",
       "      <td>0.057412</td>\n",
       "      <td>0.048489</td>\n",
       "      <td>0.052025</td>\n",
       "      <td>0.092997</td>\n",
       "      <td>0.029854</td>\n",
       "    </tr>\n",
       "    <tr>\n",
       "      <th>Q2</th>\n",
       "      <td>0.036543</td>\n",
       "      <td>1.000000</td>\n",
       "      <td>-0.003612</td>\n",
       "      <td>0.138559</td>\n",
       "      <td>0.042973</td>\n",
       "      <td>0.020698</td>\n",
       "      <td>0.021600</td>\n",
       "    </tr>\n",
       "    <tr>\n",
       "      <th>Q3</th>\n",
       "      <td>0.057412</td>\n",
       "      <td>-0.003612</td>\n",
       "      <td>1.000000</td>\n",
       "      <td>0.147079</td>\n",
       "      <td>0.008341</td>\n",
       "      <td>0.005192</td>\n",
       "      <td>-0.006711</td>\n",
       "    </tr>\n",
       "    <tr>\n",
       "      <th>Q4</th>\n",
       "      <td>0.048489</td>\n",
       "      <td>0.138559</td>\n",
       "      <td>0.147079</td>\n",
       "      <td>1.000000</td>\n",
       "      <td>0.007887</td>\n",
       "      <td>0.044396</td>\n",
       "      <td>0.028710</td>\n",
       "    </tr>\n",
       "    <tr>\n",
       "      <th>Q5</th>\n",
       "      <td>0.052025</td>\n",
       "      <td>0.042973</td>\n",
       "      <td>0.008341</td>\n",
       "      <td>0.007887</td>\n",
       "      <td>1.000000</td>\n",
       "      <td>0.085300</td>\n",
       "      <td>0.126538</td>\n",
       "    </tr>\n",
       "    <tr>\n",
       "      <th>Q6</th>\n",
       "      <td>0.092997</td>\n",
       "      <td>0.020698</td>\n",
       "      <td>0.005192</td>\n",
       "      <td>0.044396</td>\n",
       "      <td>0.085300</td>\n",
       "      <td>1.000000</td>\n",
       "      <td>0.063008</td>\n",
       "    </tr>\n",
       "    <tr>\n",
       "      <th>Q7</th>\n",
       "      <td>0.029854</td>\n",
       "      <td>0.021600</td>\n",
       "      <td>-0.006711</td>\n",
       "      <td>0.028710</td>\n",
       "      <td>0.126538</td>\n",
       "      <td>0.063008</td>\n",
       "      <td>1.000000</td>\n",
       "    </tr>\n",
       "  </tbody>\n",
       "</table>\n",
       "</div>"
      ],
      "text/plain": [
       "          Q1        Q2        Q3        Q4        Q5        Q6        Q7\n",
       "Q1  1.000000  0.036543  0.057412  0.048489  0.052025  0.092997  0.029854\n",
       "Q2  0.036543  1.000000 -0.003612  0.138559  0.042973  0.020698  0.021600\n",
       "Q3  0.057412 -0.003612  1.000000  0.147079  0.008341  0.005192 -0.006711\n",
       "Q4  0.048489  0.138559  0.147079  1.000000  0.007887  0.044396  0.028710\n",
       "Q5  0.052025  0.042973  0.008341  0.007887  1.000000  0.085300  0.126538\n",
       "Q6  0.092997  0.020698  0.005192  0.044396  0.085300  1.000000  0.063008\n",
       "Q7  0.029854  0.021600 -0.006711  0.028710  0.126538  0.063008  1.000000"
      ]
     },
     "execution_count": 748,
     "metadata": {},
     "output_type": "execute_result"
    }
   ],
   "source": [
    "#Correlation between Other/Refused voters (not \"Undecided\" voters) across questions\n",
    "Q1_other = q1['Q1'].isin([5,6])\n",
    "Q2_other = q1['Q2'].isin([3,5])\n",
    "Q3_other = q1['Q3'].isin([4,6])\n",
    "Q4_other = q1['Q4'].isin([3,5])\n",
    "Q5_other = q1['Q5'].isin([3])\n",
    "Q6_other = q1['Q6'].isin([3,4,5])\n",
    "Q7_other = q1['Q7'].isin([4])\n",
    "pd.concat([Q1_other,Q2_other,Q3_other,Q4_other,Q5_other,Q6_other,Q7_other], axis=1).corr()"
   ]
  },
  {
   "cell_type": "markdown",
   "metadata": {},
   "source": [
    "> The strongest correlation is between Other/Refused voters for Bartlet vs. Hoynes (with and w/out Ingle in the race). The correlation factor is 0.14. The second strongest correlation is between Other/Refused voters for the governor spot and the Bartlet-Hoynes race w/out Ingle."
   ]
  },
  {
   "cell_type": "markdown",
   "metadata": {},
   "source": [
    "# Looking at Invalid Responses"
   ]
  },
  {
   "cell_type": "markdown",
   "metadata": {},
   "source": [
    "There may be some scattered invalid responses in this data (such as 0, null, or other values not included in the survey script) due to errors on the part of the calling vendor.  How would you treat these invalid responses?  Do they threaten the integrity of the dataset? Why or why not?"
   ]
  },
  {
   "cell_type": "code",
   "execution_count": 635,
   "metadata": {
    "collapsed": false
   },
   "outputs": [
    {
     "data": {
      "text/html": [
       "<div>\n",
       "<table border=\"1\" class=\"dataframe\">\n",
       "  <thead>\n",
       "    <tr style=\"text-align: right;\">\n",
       "      <th></th>\n",
       "      <th>Individual ID</th>\n",
       "      <th>Age</th>\n",
       "      <th>Q1</th>\n",
       "      <th>Q2</th>\n",
       "      <th>Q3</th>\n",
       "      <th>Q4</th>\n",
       "      <th>Q5</th>\n",
       "      <th>Q6</th>\n",
       "      <th>Q7</th>\n",
       "    </tr>\n",
       "  </thead>\n",
       "  <tbody>\n",
       "    <tr>\n",
       "      <th>count</th>\n",
       "      <td>4994.000000</td>\n",
       "      <td>4994.000000</td>\n",
       "      <td>4994.000000</td>\n",
       "      <td>4994.000000</td>\n",
       "      <td>4994.000000</td>\n",
       "      <td>4994.000000</td>\n",
       "      <td>4994.000000</td>\n",
       "      <td>4994.000000</td>\n",
       "      <td>4994.000000</td>\n",
       "    </tr>\n",
       "    <tr>\n",
       "      <th>mean</th>\n",
       "      <td>2497.500000</td>\n",
       "      <td>67.727673</td>\n",
       "      <td>1.592911</td>\n",
       "      <td>1.751502</td>\n",
       "      <td>1.991590</td>\n",
       "      <td>1.675410</td>\n",
       "      <td>1.574089</td>\n",
       "      <td>1.918302</td>\n",
       "      <td>2.067481</td>\n",
       "    </tr>\n",
       "    <tr>\n",
       "      <th>std</th>\n",
       "      <td>1441.787953</td>\n",
       "      <td>13.354100</td>\n",
       "      <td>1.142675</td>\n",
       "      <td>0.894003</td>\n",
       "      <td>1.046261</td>\n",
       "      <td>0.826756</td>\n",
       "      <td>0.570853</td>\n",
       "      <td>0.666299</td>\n",
       "      <td>0.844186</td>\n",
       "    </tr>\n",
       "    <tr>\n",
       "      <th>min</th>\n",
       "      <td>1.000000</td>\n",
       "      <td>22.000000</td>\n",
       "      <td>0.000000</td>\n",
       "      <td>1.000000</td>\n",
       "      <td>1.000000</td>\n",
       "      <td>1.000000</td>\n",
       "      <td>0.000000</td>\n",
       "      <td>0.000000</td>\n",
       "      <td>1.000000</td>\n",
       "    </tr>\n",
       "    <tr>\n",
       "      <th>25%</th>\n",
       "      <td>1249.250000</td>\n",
       "      <td>59.000000</td>\n",
       "      <td>1.000000</td>\n",
       "      <td>1.000000</td>\n",
       "      <td>1.000000</td>\n",
       "      <td>1.000000</td>\n",
       "      <td>1.000000</td>\n",
       "      <td>2.000000</td>\n",
       "      <td>1.000000</td>\n",
       "    </tr>\n",
       "    <tr>\n",
       "      <th>50%</th>\n",
       "      <td>2497.500000</td>\n",
       "      <td>68.000000</td>\n",
       "      <td>1.000000</td>\n",
       "      <td>2.000000</td>\n",
       "      <td>2.000000</td>\n",
       "      <td>2.000000</td>\n",
       "      <td>2.000000</td>\n",
       "      <td>2.000000</td>\n",
       "      <td>2.000000</td>\n",
       "    </tr>\n",
       "    <tr>\n",
       "      <th>75%</th>\n",
       "      <td>3745.750000</td>\n",
       "      <td>78.000000</td>\n",
       "      <td>2.000000</td>\n",
       "      <td>2.000000</td>\n",
       "      <td>3.000000</td>\n",
       "      <td>2.000000</td>\n",
       "      <td>2.000000</td>\n",
       "      <td>2.000000</td>\n",
       "      <td>3.000000</td>\n",
       "    </tr>\n",
       "    <tr>\n",
       "      <th>max</th>\n",
       "      <td>4994.000000</td>\n",
       "      <td>100.000000</td>\n",
       "      <td>9.000000</td>\n",
       "      <td>9.000000</td>\n",
       "      <td>9.000000</td>\n",
       "      <td>9.000000</td>\n",
       "      <td>6.000000</td>\n",
       "      <td>9.000000</td>\n",
       "      <td>8.000000</td>\n",
       "    </tr>\n",
       "  </tbody>\n",
       "</table>\n",
       "</div>"
      ],
      "text/plain": [
       "       Individual ID          Age           Q1           Q2           Q3  \\\n",
       "count    4994.000000  4994.000000  4994.000000  4994.000000  4994.000000   \n",
       "mean     2497.500000    67.727673     1.592911     1.751502     1.991590   \n",
       "std      1441.787953    13.354100     1.142675     0.894003     1.046261   \n",
       "min         1.000000    22.000000     0.000000     1.000000     1.000000   \n",
       "25%      1249.250000    59.000000     1.000000     1.000000     1.000000   \n",
       "50%      2497.500000    68.000000     1.000000     2.000000     2.000000   \n",
       "75%      3745.750000    78.000000     2.000000     2.000000     3.000000   \n",
       "max      4994.000000   100.000000     9.000000     9.000000     9.000000   \n",
       "\n",
       "                Q4           Q5           Q6           Q7  \n",
       "count  4994.000000  4994.000000  4994.000000  4994.000000  \n",
       "mean      1.675410     1.574089     1.918302     2.067481  \n",
       "std       0.826756     0.570853     0.666299     0.844186  \n",
       "min       1.000000     0.000000     0.000000     1.000000  \n",
       "25%       1.000000     1.000000     2.000000     1.000000  \n",
       "50%       2.000000     2.000000     2.000000     2.000000  \n",
       "75%       2.000000     2.000000     2.000000     3.000000  \n",
       "max       9.000000     6.000000     9.000000     8.000000  "
      ]
     },
     "execution_count": 635,
     "metadata": {},
     "output_type": "execute_result"
    }
   ],
   "source": [
    "q1.describe()"
   ]
  },
  {
   "cell_type": "code",
   "execution_count": 636,
   "metadata": {
    "collapsed": false
   },
   "outputs": [
    {
     "data": {
      "text/html": [
       "<div>\n",
       "<table border=\"1\" class=\"dataframe\">\n",
       "  <thead>\n",
       "    <tr style=\"text-align: right;\">\n",
       "      <th></th>\n",
       "      <th>Individual ID</th>\n",
       "      <th>Age</th>\n",
       "      <th>Gender</th>\n",
       "      <th>Party Registration</th>\n",
       "      <th>Q1</th>\n",
       "      <th>Q2</th>\n",
       "      <th>Q3</th>\n",
       "      <th>Q4</th>\n",
       "      <th>Q5</th>\n",
       "      <th>Q6</th>\n",
       "      <th>Q7</th>\n",
       "    </tr>\n",
       "  </thead>\n",
       "  <tbody>\n",
       "    <tr>\n",
       "      <th>433</th>\n",
       "      <td>434</td>\n",
       "      <td>75</td>\n",
       "      <td>F</td>\n",
       "      <td>R</td>\n",
       "      <td>5</td>\n",
       "      <td>2</td>\n",
       "      <td>2</td>\n",
       "      <td>2</td>\n",
       "      <td>1</td>\n",
       "      <td>7</td>\n",
       "      <td>2</td>\n",
       "    </tr>\n",
       "    <tr>\n",
       "      <th>611</th>\n",
       "      <td>612</td>\n",
       "      <td>87</td>\n",
       "      <td>M</td>\n",
       "      <td>R</td>\n",
       "      <td>9</td>\n",
       "      <td>2</td>\n",
       "      <td>5</td>\n",
       "      <td>4</td>\n",
       "      <td>2</td>\n",
       "      <td>2</td>\n",
       "      <td>2</td>\n",
       "    </tr>\n",
       "    <tr>\n",
       "      <th>1109</th>\n",
       "      <td>1110</td>\n",
       "      <td>67</td>\n",
       "      <td>F</td>\n",
       "      <td>I</td>\n",
       "      <td>1</td>\n",
       "      <td>9</td>\n",
       "      <td>9</td>\n",
       "      <td>9</td>\n",
       "      <td>2</td>\n",
       "      <td>2</td>\n",
       "      <td>3</td>\n",
       "    </tr>\n",
       "    <tr>\n",
       "      <th>1190</th>\n",
       "      <td>1191</td>\n",
       "      <td>75</td>\n",
       "      <td>F</td>\n",
       "      <td>D</td>\n",
       "      <td>1</td>\n",
       "      <td>4</td>\n",
       "      <td>3</td>\n",
       "      <td>2</td>\n",
       "      <td>6</td>\n",
       "      <td>1</td>\n",
       "      <td>8</td>\n",
       "    </tr>\n",
       "    <tr>\n",
       "      <th>1771</th>\n",
       "      <td>1772</td>\n",
       "      <td>75</td>\n",
       "      <td>F</td>\n",
       "      <td>D</td>\n",
       "      <td>6</td>\n",
       "      <td>2</td>\n",
       "      <td>9</td>\n",
       "      <td>5</td>\n",
       "      <td>4</td>\n",
       "      <td>3</td>\n",
       "      <td>1</td>\n",
       "    </tr>\n",
       "    <tr>\n",
       "      <th>2624</th>\n",
       "      <td>2625</td>\n",
       "      <td>79</td>\n",
       "      <td>M</td>\n",
       "      <td>R</td>\n",
       "      <td>3</td>\n",
       "      <td>2</td>\n",
       "      <td>2</td>\n",
       "      <td>2</td>\n",
       "      <td>4</td>\n",
       "      <td>3</td>\n",
       "      <td>2</td>\n",
       "    </tr>\n",
       "    <tr>\n",
       "      <th>2664</th>\n",
       "      <td>2665</td>\n",
       "      <td>41</td>\n",
       "      <td>F</td>\n",
       "      <td>I</td>\n",
       "      <td>6</td>\n",
       "      <td>2</td>\n",
       "      <td>5</td>\n",
       "      <td>4</td>\n",
       "      <td>2</td>\n",
       "      <td>9</td>\n",
       "      <td>3</td>\n",
       "    </tr>\n",
       "    <tr>\n",
       "      <th>2670</th>\n",
       "      <td>2671</td>\n",
       "      <td>85</td>\n",
       "      <td>F</td>\n",
       "      <td>D</td>\n",
       "      <td>2</td>\n",
       "      <td>1</td>\n",
       "      <td>1</td>\n",
       "      <td>1</td>\n",
       "      <td>1</td>\n",
       "      <td>1</td>\n",
       "      <td>6</td>\n",
       "    </tr>\n",
       "    <tr>\n",
       "      <th>2769</th>\n",
       "      <td>2770</td>\n",
       "      <td>36</td>\n",
       "      <td>F</td>\n",
       "      <td>R</td>\n",
       "      <td>0</td>\n",
       "      <td>1</td>\n",
       "      <td>3</td>\n",
       "      <td>1</td>\n",
       "      <td>1</td>\n",
       "      <td>2</td>\n",
       "      <td>3</td>\n",
       "    </tr>\n",
       "    <tr>\n",
       "      <th>3956</th>\n",
       "      <td>3957</td>\n",
       "      <td>69</td>\n",
       "      <td>F</td>\n",
       "      <td>R</td>\n",
       "      <td>2</td>\n",
       "      <td>4</td>\n",
       "      <td>1</td>\n",
       "      <td>1</td>\n",
       "      <td>4</td>\n",
       "      <td>3</td>\n",
       "      <td>4</td>\n",
       "    </tr>\n",
       "    <tr>\n",
       "      <th>4152</th>\n",
       "      <td>4153</td>\n",
       "      <td>85</td>\n",
       "      <td>F</td>\n",
       "      <td>R</td>\n",
       "      <td>2</td>\n",
       "      <td>4</td>\n",
       "      <td>5</td>\n",
       "      <td>4</td>\n",
       "      <td>4</td>\n",
       "      <td>2</td>\n",
       "      <td>2</td>\n",
       "    </tr>\n",
       "    <tr>\n",
       "      <th>4460</th>\n",
       "      <td>4461</td>\n",
       "      <td>73</td>\n",
       "      <td>F</td>\n",
       "      <td>R</td>\n",
       "      <td>6</td>\n",
       "      <td>5</td>\n",
       "      <td>5</td>\n",
       "      <td>5</td>\n",
       "      <td>5</td>\n",
       "      <td>5</td>\n",
       "      <td>5</td>\n",
       "    </tr>\n",
       "    <tr>\n",
       "      <th>4516</th>\n",
       "      <td>4517</td>\n",
       "      <td>62</td>\n",
       "      <td>F</td>\n",
       "      <td>D</td>\n",
       "      <td>0</td>\n",
       "      <td>1</td>\n",
       "      <td>2</td>\n",
       "      <td>1</td>\n",
       "      <td>1</td>\n",
       "      <td>2</td>\n",
       "      <td>1</td>\n",
       "    </tr>\n",
       "    <tr>\n",
       "      <th>4612</th>\n",
       "      <td>4613</td>\n",
       "      <td>62</td>\n",
       "      <td>F</td>\n",
       "      <td>D</td>\n",
       "      <td>3</td>\n",
       "      <td>1</td>\n",
       "      <td>1</td>\n",
       "      <td>1</td>\n",
       "      <td>1</td>\n",
       "      <td>9</td>\n",
       "      <td>4</td>\n",
       "    </tr>\n",
       "    <tr>\n",
       "      <th>4686</th>\n",
       "      <td>4687</td>\n",
       "      <td>54</td>\n",
       "      <td>F</td>\n",
       "      <td>R</td>\n",
       "      <td>2</td>\n",
       "      <td>2</td>\n",
       "      <td>2</td>\n",
       "      <td>2</td>\n",
       "      <td>1</td>\n",
       "      <td>2</td>\n",
       "      <td>6</td>\n",
       "    </tr>\n",
       "    <tr>\n",
       "      <th>4729</th>\n",
       "      <td>4730</td>\n",
       "      <td>54</td>\n",
       "      <td>F</td>\n",
       "      <td>R</td>\n",
       "      <td>2</td>\n",
       "      <td>3</td>\n",
       "      <td>5</td>\n",
       "      <td>4</td>\n",
       "      <td>5</td>\n",
       "      <td>4</td>\n",
       "      <td>4</td>\n",
       "    </tr>\n",
       "    <tr>\n",
       "      <th>4908</th>\n",
       "      <td>4909</td>\n",
       "      <td>80</td>\n",
       "      <td>M</td>\n",
       "      <td>D</td>\n",
       "      <td>1</td>\n",
       "      <td>1</td>\n",
       "      <td>1</td>\n",
       "      <td>1</td>\n",
       "      <td>1</td>\n",
       "      <td>1</td>\n",
       "      <td>6</td>\n",
       "    </tr>\n",
       "  </tbody>\n",
       "</table>\n",
       "</div>"
      ],
      "text/plain": [
       "      Individual ID  Age Gender Party Registration  Q1  Q2  Q3  Q4  Q5  Q6  Q7\n",
       "433             434   75      F                  R   5   2   2   2   1   7   2\n",
       "611             612   87      M                  R   9   2   5   4   2   2   2\n",
       "1109           1110   67      F                  I   1   9   9   9   2   2   3\n",
       "1190           1191   75      F                  D   1   4   3   2   6   1   8\n",
       "1771           1772   75      F                  D   6   2   9   5   4   3   1\n",
       "2624           2625   79      M                  R   3   2   2   2   4   3   2\n",
       "2664           2665   41      F                  I   6   2   5   4   2   9   3\n",
       "2670           2671   85      F                  D   2   1   1   1   1   1   6\n",
       "2769           2770   36      F                  R   0   1   3   1   1   2   3\n",
       "3956           3957   69      F                  R   2   4   1   1   4   3   4\n",
       "4152           4153   85      F                  R   2   4   5   4   4   2   2\n",
       "4460           4461   73      F                  R   6   5   5   5   5   5   5\n",
       "4516           4517   62      F                  D   0   1   2   1   1   2   1\n",
       "4612           4613   62      F                  D   3   1   1   1   1   9   4\n",
       "4686           4687   54      F                  R   2   2   2   2   1   2   6\n",
       "4729           4730   54      F                  R   2   3   5   4   5   4   4\n",
       "4908           4909   80      M                  D   1   1   1   1   1   1   6"
      ]
     },
     "execution_count": 636,
     "metadata": {},
     "output_type": "execute_result"
    }
   ],
   "source": [
    "invalid = list(chain(q1[(q1['Q1'].isin([0,9]))]['Individual ID'].values,\n",
    "q1[(q1['Q2']>5)]['Individual ID'].values,\n",
    "q1[(q1['Q3']>6)]['Individual ID'].values,\n",
    "q1[(q1['Q4']>5)]['Individual ID'].values,\n",
    "q1[(q1['Q5']>3)]['Individual ID'].values,\n",
    "q1[(q1['Q6']>5)]['Individual ID'].values,\n",
    "q1[(q1['Q7']>4)]['Individual ID'].values))\n",
    "q1[q1['Individual ID'].isin(invalid)]"
   ]
  },
  {
   "cell_type": "markdown",
   "metadata": {},
   "source": [
    "> None of the responses should be thrown out. The questions that truly provide value are Q3 and Q4. The individual 1110 does not have valid reponses for either; however the answers can be imputed from the information provided.\n",
    "\n",
    "> Consider using NMF or kNN to fill in the responses after removing the invalid ones"
   ]
  },
  {
   "cell_type": "markdown",
   "metadata": {},
   "source": [
    "# Question 4\n",
    "You have recently started in the market research division of a box company in Tustin, CA. As one of your first tasks, Randy, the head of market research, asks you to analyze the following data from a recent poll of 5,000 Californians:\n",
    "\n",
    "> If you were to purchase boxes in the next few months, would you prefer corrugated or uncorrugated cardboard for your boxes?\n",
    "\n",
    "For your convenience, the individual-level responses from the poll are provided in “poll_responses.csv” which you should have received along with this exam (yes responses are coded as 1 and no responses as 0 in the file). The questions below can be answered with or without this additional data. "
   ]
  },
  {
   "cell_type": "markdown",
   "metadata": {},
   "source": [
    "## Part A. \n",
    "What is your best estimate for the percentage of Californians who prefer corrugated cardboard for their boxes? What is the 95% confidence interval for this estimate? Please show your work.\n"
   ]
  },
  {
   "cell_type": "code",
   "execution_count": 754,
   "metadata": {
    "collapsed": false
   },
   "outputs": [
    {
     "data": {
      "text/html": [
       "<div>\n",
       "<table border=\"1\" class=\"dataframe\">\n",
       "  <thead>\n",
       "    <tr style=\"text-align: right;\">\n",
       "      <th></th>\n",
       "      <th>gender</th>\n",
       "      <th>age_bucket</th>\n",
       "      <th>urbanicity</th>\n",
       "      <th>prefer_corrugated</th>\n",
       "    </tr>\n",
       "  </thead>\n",
       "  <tbody>\n",
       "    <tr>\n",
       "      <th>0</th>\n",
       "      <td>male</td>\n",
       "      <td>18_to_35</td>\n",
       "      <td>urban</td>\n",
       "      <td>1</td>\n",
       "    </tr>\n",
       "    <tr>\n",
       "      <th>1</th>\n",
       "      <td>male</td>\n",
       "      <td>18_to_35</td>\n",
       "      <td>urban</td>\n",
       "      <td>1</td>\n",
       "    </tr>\n",
       "    <tr>\n",
       "      <th>2</th>\n",
       "      <td>male</td>\n",
       "      <td>18_to_35</td>\n",
       "      <td>urban</td>\n",
       "      <td>1</td>\n",
       "    </tr>\n",
       "    <tr>\n",
       "      <th>3</th>\n",
       "      <td>male</td>\n",
       "      <td>18_to_35</td>\n",
       "      <td>urban</td>\n",
       "      <td>1</td>\n",
       "    </tr>\n",
       "    <tr>\n",
       "      <th>4</th>\n",
       "      <td>male</td>\n",
       "      <td>18_to_35</td>\n",
       "      <td>urban</td>\n",
       "      <td>1</td>\n",
       "    </tr>\n",
       "  </tbody>\n",
       "</table>\n",
       "</div>"
      ],
      "text/plain": [
       "  gender age_bucket urbanicity  prefer_corrugated\n",
       "0   male   18_to_35      urban                  1\n",
       "1   male   18_to_35      urban                  1\n",
       "2   male   18_to_35      urban                  1\n",
       "3   male   18_to_35      urban                  1\n",
       "4   male   18_to_35      urban                  1"
      ]
     },
     "execution_count": 754,
     "metadata": {},
     "output_type": "execute_result"
    }
   ],
   "source": [
    "q4 = pd.read_csv(\"Q4 poll_responses.csv\")\n",
    "q4.head()"
   ]
  },
  {
   "cell_type": "code",
   "execution_count": 787,
   "metadata": {
    "collapsed": false
   },
   "outputs": [
    {
     "name": "stdout",
     "output_type": "stream",
     "text": [
      "<class 'pandas.core.frame.DataFrame'>\n",
      "Int64Index: 5001 entries, 0 to 5000\n",
      "Data columns (total 4 columns):\n",
      "gender               5001 non-null object\n",
      "age_bucket           5001 non-null object\n",
      "urbanicity           5001 non-null object\n",
      "prefer_corrugated    5001 non-null int64\n",
      "dtypes: int64(1), object(3)\n",
      "memory usage: 195.4+ KB\n"
     ]
    },
    {
     "data": {
      "text/html": [
       "<div>\n",
       "<table border=\"1\" class=\"dataframe\">\n",
       "  <thead>\n",
       "    <tr style=\"text-align: right;\">\n",
       "      <th></th>\n",
       "      <th>prefer_corrugated</th>\n",
       "    </tr>\n",
       "  </thead>\n",
       "  <tbody>\n",
       "    <tr>\n",
       "      <th>count</th>\n",
       "      <td>5001.000000</td>\n",
       "    </tr>\n",
       "    <tr>\n",
       "      <th>mean</th>\n",
       "      <td>0.588482</td>\n",
       "    </tr>\n",
       "    <tr>\n",
       "      <th>std</th>\n",
       "      <td>0.492158</td>\n",
       "    </tr>\n",
       "    <tr>\n",
       "      <th>min</th>\n",
       "      <td>0.000000</td>\n",
       "    </tr>\n",
       "    <tr>\n",
       "      <th>25%</th>\n",
       "      <td>0.000000</td>\n",
       "    </tr>\n",
       "    <tr>\n",
       "      <th>50%</th>\n",
       "      <td>1.000000</td>\n",
       "    </tr>\n",
       "    <tr>\n",
       "      <th>75%</th>\n",
       "      <td>1.000000</td>\n",
       "    </tr>\n",
       "    <tr>\n",
       "      <th>max</th>\n",
       "      <td>1.000000</td>\n",
       "    </tr>\n",
       "  </tbody>\n",
       "</table>\n",
       "</div>"
      ],
      "text/plain": [
       "       prefer_corrugated\n",
       "count        5001.000000\n",
       "mean            0.588482\n",
       "std             0.492158\n",
       "min             0.000000\n",
       "25%             0.000000\n",
       "50%             1.000000\n",
       "75%             1.000000\n",
       "max             1.000000"
      ]
     },
     "execution_count": 787,
     "metadata": {},
     "output_type": "execute_result"
    }
   ],
   "source": [
    "q4.info()\n",
    "q4.describe()"
   ]
  },
  {
   "cell_type": "code",
   "execution_count": 761,
   "metadata": {
    "collapsed": false
   },
   "outputs": [
    {
     "data": {
      "text/html": [
       "<div>\n",
       "<table border=\"1\" class=\"dataframe\">\n",
       "  <thead>\n",
       "    <tr style=\"text-align: right;\">\n",
       "      <th></th>\n",
       "      <th>age_bucket</th>\n",
       "      <th>urbanicity</th>\n",
       "      <th>prefer_corrugated</th>\n",
       "    </tr>\n",
       "    <tr>\n",
       "      <th>gender</th>\n",
       "      <th></th>\n",
       "      <th></th>\n",
       "      <th></th>\n",
       "    </tr>\n",
       "  </thead>\n",
       "  <tbody>\n",
       "    <tr>\n",
       "      <th>female</th>\n",
       "      <td>0.507698</td>\n",
       "      <td>0.507698</td>\n",
       "      <td>0.507698</td>\n",
       "    </tr>\n",
       "    <tr>\n",
       "      <th>male</th>\n",
       "      <td>0.492302</td>\n",
       "      <td>0.492302</td>\n",
       "      <td>0.492302</td>\n",
       "    </tr>\n",
       "  </tbody>\n",
       "</table>\n",
       "</div>"
      ],
      "text/plain": [
       "        age_bucket  urbanicity  prefer_corrugated\n",
       "gender                                           \n",
       "female    0.507698    0.507698           0.507698\n",
       "male      0.492302    0.492302           0.492302"
      ]
     },
     "execution_count": 761,
     "metadata": {},
     "output_type": "execute_result"
    }
   ],
   "source": [
    "q4.groupby(['gender']).count()/len(q4.index)"
   ]
  },
  {
   "cell_type": "markdown",
   "metadata": {},
   "source": [
    "> Male-to-Female ratio is accurately represented with respect to California"
   ]
  },
  {
   "cell_type": "code",
   "execution_count": 796,
   "metadata": {
    "collapsed": false,
    "scrolled": true
   },
   "outputs": [
    {
     "name": "stdout",
     "output_type": "stream",
     "text": [
      "              gender  urbanicity  prefer_corrugated\n",
      "age_bucket                                         \n",
      "18_to_35    0.194761    0.194761           0.194761\n",
      "36_to_64    0.528694    0.528694           0.528694\n",
      "65_plus     0.276545    0.276545           0.276545\n"
     ]
    }
   ],
   "source": [
    "age_bucket = q4.groupby(['age_bucket']).count()/len(q4.index)\n",
    "print age_bucket"
   ]
  },
  {
   "cell_type": "markdown",
   "metadata": {},
   "source": [
    "> According to http://www.infoplease.com/us/census/data/california/demographic.html, the percentages are: \n",
    "- 18-35: 25% (34% normalized) (under-represented)\n",
    "- 36-64: 37% (50% normalized) ((accurate relative proportion)\n",
    "- 65+: 11% (16% normalized) (over-represented)\n",
    "\n",
    "> For this dataset, the sampling weights should be:\n",
    "- 18-35: 1.8\n",
    "- 36-64: 1\n",
    "- 65+: 0.6"
   ]
  },
  {
   "cell_type": "code",
   "execution_count": 893,
   "metadata": {
    "collapsed": false
   },
   "outputs": [
    {
     "data": {
      "text/html": [
       "<div>\n",
       "<table border=\"1\" class=\"dataframe\">\n",
       "  <thead>\n",
       "    <tr style=\"text-align: right;\">\n",
       "      <th></th>\n",
       "      <th>weights</th>\n",
       "    </tr>\n",
       "    <tr>\n",
       "      <th>age_bucket</th>\n",
       "      <th></th>\n",
       "    </tr>\n",
       "  </thead>\n",
       "  <tbody>\n",
       "    <tr>\n",
       "      <th>18_to_35</th>\n",
       "      <td>1.8</td>\n",
       "    </tr>\n",
       "    <tr>\n",
       "      <th>36_to_64</th>\n",
       "      <td>1.0</td>\n",
       "    </tr>\n",
       "    <tr>\n",
       "      <th>65_plus</th>\n",
       "      <td>0.6</td>\n",
       "    </tr>\n",
       "  </tbody>\n",
       "</table>\n",
       "</div>"
      ],
      "text/plain": [
       "            weights\n",
       "age_bucket         \n",
       "18_to_35        1.8\n",
       "36_to_64        1.0\n",
       "65_plus         0.6"
      ]
     },
     "execution_count": 893,
     "metadata": {},
     "output_type": "execute_result"
    }
   ],
   "source": [
    "w = pd.DataFrame(data=[1.8,1,0.6],index=age_bucket.index, columns = ['weights'])\n",
    "w"
   ]
  },
  {
   "cell_type": "code",
   "execution_count": 894,
   "metadata": {
    "collapsed": false
   },
   "outputs": [
    {
     "data": {
      "text/html": [
       "<div>\n",
       "<table border=\"1\" class=\"dataframe\">\n",
       "  <thead>\n",
       "    <tr style=\"text-align: right;\">\n",
       "      <th></th>\n",
       "      <th>gender</th>\n",
       "      <th>age_bucket</th>\n",
       "      <th>prefer_corrugated</th>\n",
       "    </tr>\n",
       "    <tr>\n",
       "      <th>urbanicity</th>\n",
       "      <th></th>\n",
       "      <th></th>\n",
       "      <th></th>\n",
       "    </tr>\n",
       "  </thead>\n",
       "  <tbody>\n",
       "    <tr>\n",
       "      <th>rural</th>\n",
       "      <td>0.462907</td>\n",
       "      <td>0.462907</td>\n",
       "      <td>0.462907</td>\n",
       "    </tr>\n",
       "    <tr>\n",
       "      <th>urban</th>\n",
       "      <td>0.537093</td>\n",
       "      <td>0.537093</td>\n",
       "      <td>0.537093</td>\n",
       "    </tr>\n",
       "  </tbody>\n",
       "</table>\n",
       "</div>"
      ],
      "text/plain": [
       "              gender  age_bucket  prefer_corrugated\n",
       "urbanicity                                         \n",
       "rural       0.462907    0.462907           0.462907\n",
       "urban       0.537093    0.537093           0.537093"
      ]
     },
     "execution_count": 894,
     "metadata": {},
     "output_type": "execute_result"
    }
   ],
   "source": [
    "urban_bucket = q4.groupby(['urbanicity']).count()/len(q4.index)\n",
    "urban_bucket"
   ]
  },
  {
   "cell_type": "markdown",
   "metadata": {},
   "source": [
    "> According to http://ruralhealth.stanford.edu/health-pros/factsheets/ the rural/urban breakdown is 13%/87%\n",
    "\n",
    "> For this dataset the sampling weights are:\n",
    "- rural: 0.3\n",
    "- urban: 1.6"
   ]
  },
  {
   "cell_type": "markdown",
   "metadata": {},
   "source": [
    "Use technique of __Weighting Adjustment__ when the survey sample is not representative of the population. "
   ]
  },
  {
   "cell_type": "code",
   "execution_count": 895,
   "metadata": {
    "collapsed": false
   },
   "outputs": [
    {
     "name": "stdout",
     "output_type": "stream",
     "text": [
      "          weights\n",
      "18_to_35      1.8\n",
      "36_to_64      1.0\n",
      "65_plus       0.6\n",
      "rural         0.3\n",
      "urban         1.6\n",
      "weights    5.3\n",
      "dtype: float64\n"
     ]
    }
   ],
   "source": [
    "w_urban = pd.DataFrame([0.3,1.6],urban_bucket.index, columns = ['weights'])\n",
    "w = w.append(w_urban)\n",
    "print w\n",
    "print w.sum()"
   ]
  },
  {
   "cell_type": "code",
   "execution_count": 896,
   "metadata": {
    "collapsed": false
   },
   "outputs": [
    {
     "data": {
      "text/html": [
       "<div>\n",
       "<table border=\"1\" class=\"dataframe\">\n",
       "  <thead>\n",
       "    <tr style=\"text-align: right;\">\n",
       "      <th>urbanicity</th>\n",
       "      <th>rural</th>\n",
       "      <th>urban</th>\n",
       "    </tr>\n",
       "    <tr>\n",
       "      <th>age_bucket</th>\n",
       "      <th></th>\n",
       "      <th></th>\n",
       "    </tr>\n",
       "  </thead>\n",
       "  <tbody>\n",
       "    <tr>\n",
       "      <th>18_to_35</th>\n",
       "      <td>0.092382</td>\n",
       "      <td>0.102380</td>\n",
       "    </tr>\n",
       "    <tr>\n",
       "      <th>36_to_64</th>\n",
       "      <td>0.250350</td>\n",
       "      <td>0.278344</td>\n",
       "    </tr>\n",
       "    <tr>\n",
       "      <th>65_plus</th>\n",
       "      <td>0.120176</td>\n",
       "      <td>0.156369</td>\n",
       "    </tr>\n",
       "  </tbody>\n",
       "</table>\n",
       "</div>"
      ],
      "text/plain": [
       "urbanicity     rural     urban\n",
       "age_bucket                    \n",
       "18_to_35    0.092382  0.102380\n",
       "36_to_64    0.250350  0.278344\n",
       "65_plus     0.120176  0.156369"
      ]
     },
     "execution_count": 896,
     "metadata": {},
     "output_type": "execute_result"
    }
   ],
   "source": [
    "perc = pd.crosstab(q4['age_bucket'], q4['urbanicity'])/len(q4.index)\n",
    "perc"
   ]
  },
  {
   "cell_type": "code",
   "execution_count": 897,
   "metadata": {
    "collapsed": false
   },
   "outputs": [
    {
     "name": "stdout",
     "output_type": "stream",
     "text": [
      "0.588482303539\n"
     ]
    }
   ],
   "source": [
    "m_corrugated = q4['prefer_corrugated'].mean()\n",
    "print m_corrugated"
   ]
  },
  {
   "cell_type": "code",
   "execution_count": 905,
   "metadata": {
    "collapsed": false
   },
   "outputs": [
    {
     "name": "stdout",
     "output_type": "stream",
     "text": [
      "The percentage of people that prefer corrugated cardboard (the sample adjusted for the population) is: [ 0.6102212]\n"
     ]
    }
   ],
   "source": [
    "## Estimate of mean\n",
    "mean_adj = m_corrugated*((perc.loc['18_to_35']['rural']*w.loc['rural']*w.loc['18_to_35'])+\\\n",
    "(perc.loc['36_to_64']['rural']*w.loc['rural']*w.loc['36_to_64'])+\\\n",
    "(perc.loc['65_plus']['rural']*w.loc['rural']*w.loc['65_plus'])+\\\n",
    "(perc.loc['18_to_35']['urban']*w.loc['urban']*w.loc['18_to_35'])+\\\n",
    "(perc.loc['36_to_64']['urban']*w.loc['urban']*w.loc['36_to_64'])+\\\n",
    "(perc.loc['65_plus']['urban']*w.loc['urban']*w.loc['65_plus']))\n",
    "print \"The percentage of people that prefer corrugated cardboard (the sample adjusted for the population) is: {}\".format(mean_adj.values)"
   ]
  },
  {
   "cell_type": "code",
   "execution_count": 887,
   "metadata": {
    "collapsed": false
   },
   "outputs": [
    {
     "name": "stdout",
     "output_type": "stream",
     "text": [
      "95% Confidence Interval is: (0.596704197321,0.623738202501)\n"
     ]
    }
   ],
   "source": [
    "## 95% Confidence Interval \n",
    "q4['prefer_corrugated'].std()\n",
    "se = np.sqrt(mean_adj*(1-mean_adj)/len(q4.index))\n",
    "interval = se.iloc[0]*1.96\n",
    "bottom = mean_adj.iloc[0]-interval\n",
    "top = mean_adj.iloc[0]+interval\n",
    "print \"95% Confidence Interval is: ({},{})\".format(bottom,top)"
   ]
  },
  {
   "cell_type": "markdown",
   "metadata": {},
   "source": [
    "# Part B.\n",
    "Are men and women significantly different in their likelihood to prefer corrugated cardboard?"
   ]
  },
  {
   "cell_type": "markdown",
   "metadata": {},
   "source": [
    "> You can run a test of difference in proportionality to determine whether they are significantly different\n",
    "- H0: p_men = p_women\n",
    "- Ha: p_men <> p_women"
   ]
  },
  {
   "cell_type": "code",
   "execution_count": 781,
   "metadata": {
    "collapsed": false
   },
   "outputs": [],
   "source": [
    "counts = np.array([sum(q4[q4['gender']=='male']['prefer_corrugated']),sum(q4[q4['gender']!='male']['prefer_corrugated'])])\n",
    "nobs = np.array([sum(q4['gender']=='male'),sum(q4['gender']!='male')])"
   ]
  },
  {
   "cell_type": "code",
   "execution_count": 906,
   "metadata": {
    "collapsed": false
   },
   "outputs": [
    {
     "name": "stdout",
     "output_type": "stream",
     "text": [
      "p-value is: 1.00794963669e-17\n"
     ]
    }
   ],
   "source": [
    "from statsmodels.stats.proportion import proportions_ztest\n",
    "z, p = proportions_ztest(counts, nobs, value=0,alternative='two-sided')\n",
    "print \"p-value is: {}\".format(p)"
   ]
  },
  {
   "cell_type": "markdown",
   "metadata": {},
   "source": [
    "> There is a probability close to 1 that the difference in the proportion of men who prefer corrugated cardboard vs the proportion of women who prefer corrugated cardboard is non-random."
   ]
  },
  {
   "cell_type": "markdown",
   "metadata": {},
   "source": [
    "## Part C\n",
    "Your company is currently planning for 54% of the boxes it makes next quarter to use corrugated cardboard. How (if at all) would you recommend adjusting production in the upcoming quarter based on the results of your analysis? Explain your reasoning."
   ]
  },
  {
   "cell_type": "markdown",
   "metadata": {},
   "source": [
    "> The proposal would be to increase the percentage of corrugated cardboard to 61% based on the fact that the rural and older population was largely over-represented in the survey. Also the 18-35 age group was under-represented in the survey. Given that it doesn't add marginal cost to increase the corrugated cardboard cost, the 61% target should be hit. If there were additional costs to changing production targets, the safest measure is to hit 60% as the lower range of the 95% conf interval. "
   ]
  }
 ],
 "metadata": {
  "kernelspec": {
   "display_name": "Python 2",
   "language": "python",
   "name": "python2"
  },
  "language_info": {
   "codemirror_mode": {
    "name": "ipython",
    "version": 2
   },
   "file_extension": ".py",
   "mimetype": "text/x-python",
   "name": "python",
   "nbconvert_exporter": "python",
   "pygments_lexer": "ipython2",
   "version": "2.7.11"
  }
 },
 "nbformat": 4,
 "nbformat_minor": 0
}
